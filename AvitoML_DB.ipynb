{
 "cells": [
  {
   "cell_type": "code",
   "execution_count": 2,
   "metadata": {
    "collapsed": false
   },
   "outputs": [
    {
     "name": "stdout",
     "output_type": "stream",
     "text": [
      "ku\n",
      "C:/projects/AvitoML/data/\n"
     ]
    }
   ],
   "source": [
    "import sys\n",
    "##cd C:\\Users\\nigolov\\AppData\\Local\\Continuum\\Anaconda3\\Scripts\n",
    "\n",
    "#homeDIR = \"/usr/local/AvitoML/data/\"\n",
    "homeDIR = \"C:/projects/AvitoML/data/\"\n",
    "\n",
    "import pandas as pd\n",
    "import itertools\n",
    "import nltk\n",
    "import numpy as np\n",
    "import pandas as pd\n",
    "import re\n",
    "from multiprocessing import Pool\n",
    "from nltk.corpus import stopwords\n",
    "from pymystem3 import Mystem\n",
    "from sklearn.naive_bayes import MultinomialNB\n",
    "from sklearn.model_selection import StratifiedKFold\n",
    "from sklearn.linear_model import SGDClassifier\n",
    "from sklearn.linear_model import LogisticRegression\n",
    "from sklearn.ensemble import GradientBoostingClassifier\n",
    "#import xgboost as xgb\n",
    "from sklearn.metrics import accuracy_score\n",
    "from scipy.stats import gmean\n",
    "\n",
    "from nltk.stem import SnowballStemmer\n",
    "import pymorphy2\n",
    "import sqlite3\n",
    "from multiprocessing import Pool\n",
    "from sklearn.pipeline import Pipeline\n",
    "from sklearn.feature_extraction.text import CountVectorizer\n",
    "from sklearn.feature_extraction.text import TfidfVectorizer, TfidfTransformer\n",
    "from sklearn.model_selection import train_test_split\n",
    "from datetime import datetime\n",
    "from sklearn.preprocessing import MaxAbsScaler,Binarizer, Normalizer \n",
    "from scipy.sparse import hstack\n",
    "from scipy.sparse.csr import csr_matrix\n",
    "\n",
    "\n",
    "import warnings\n",
    "warnings.filterwarnings('ignore')\n",
    "\n",
    "skip_words = []\n",
    "print('ku')\n",
    "print(homeDIR)"
   ]
  },
  {
   "cell_type": "code",
   "execution_count": 3,
   "metadata": {
    "collapsed": false
   },
   "outputs": [
    {
     "name": "stdout",
     "output_type": "stream",
     "text": [
      "   item_id                     title  \\\n",
      "0   489517    Стоик журнальный сталь   \n",
      "1   489518             iPhone 5 64Gb   \n",
      "2   489519                Утеплитель   \n",
      "3   489520       Пальто демисезонное   \n",
      "4   489521  Samsung syncmaster T200N   \n",
      "\n",
      "                                         description    price  \n",
      "0  продам журнальный столик изготавливаю столы из...  10000.0  \n",
      "1  Телефон в хорошем состоянии. Комплект, гаранти...  12500.0  \n",
      "2  ТЕПЛОПЕЛЕН-ЛИДЕР ТЕПЛА!!! Толщина утеплителя :...    250.0  \n",
      "3  Продам пальто женское (букле) в отличном состо...   1700.0  \n",
      "4  Условно рабочий, проблема в панели настройки м...   1000.0  \n",
      "(243166, 4)\n"
     ]
    }
   ],
   "source": [
    "df = pd.read_csv(homeDIR+'test.csv')\n",
    "print(df.head())\n",
    "print(df.shape) ##489517"
   ]
  },
  {
   "cell_type": "code",
   "execution_count": 4,
   "metadata": {
    "collapsed": false
   },
   "outputs": [
    {
     "name": "stdout",
     "output_type": "stream",
     "text": [
      "                      title  \\\n",
      "0    Стоик журнальный сталь   \n",
      "1             iPhone 5 64Gb   \n",
      "2                Утеплитель   \n",
      "3       Пальто демисезонное   \n",
      "4  Samsung syncmaster T200N   \n",
      "\n",
      "                                         description    price  item_id  \n",
      "0  продам журнальный столик изготавливаю столы из...  10000.0   489517  \n",
      "1  Телефон в хорошем состоянии. Комплект, гаранти...  12500.0   489518  \n",
      "2  ТЕПЛОПЕЛЕН-ЛИДЕР ТЕПЛА!!! Толщина утеплителя :...    250.0   489519  \n",
      "3  Продам пальто женское (букле) в отличном состо...   1700.0   489520  \n",
      "4  Условно рабочий, проблема в панели настройки м...   1000.0   489521  \n"
     ]
    }
   ],
   "source": [
    "testdata = pd.DataFrame()\n",
    "testdata['title'] = df['title']\n",
    "testdata['description'] = df['description']\n",
    "testdata['price'] = df['price']\n",
    "testdata['item_id'] = df['item_id']\n",
    "print(testdata.head())"
   ]
  },
  {
   "cell_type": "code",
   "execution_count": 4,
   "metadata": {
    "collapsed": false
   },
   "outputs": [
    {
     "name": "stdout",
     "output_type": "stream",
     "text": [
      "Продам недорого 4 стула из светлой прессованной кожи, стильные, ножки дугообразные.\n",
      "прод недор стул из светл прессова кож стильн ножк дугообразн\n"
     ]
    }
   ],
   "source": [
    "stemmer = SnowballStemmer('russian')\n",
    "example = data.loc[1, 'description']\n",
    "print(example)\n",
    "def preproc3(text):\n",
    "    tokens = []\n",
    "    text = re.sub(u\"[^a-zа-я0-9]\", \" \", text.lower())\n",
    "    text = re.sub(u\"\\s+\", \" \", text)\n",
    "    for token in re.split(' ', text.lower()):\n",
    "        if len(token) > 1:\n",
    "            norm_token = stemmer.stem(token)\n",
    "            if norm_token in skip_words:\n",
    "                continue\n",
    "            tokens.append(norm_token)\n",
    "    if len(tokens) == 0:\n",
    "        return 'None'\n",
    "    return ' '.join(tokens)\n",
    "\n",
    "print(preproc3(example))"
   ]
  },
  {
   "cell_type": "code",
   "execution_count": 12,
   "metadata": {
    "collapsed": false
   },
   "outputs": [
    {
     "name": "stdout",
     "output_type": "stream",
     "text": [
      "title time: 0:01:32.135138\n",
      "descr time: 0:14:43.003058\n"
     ]
    }
   ],
   "source": [
    "from datetime import datetime\n",
    "import time\n",
    "n = datetime.now()\n",
    "testdata['preprocessedTitle'] = [preproc3(el) for el in testdata['title']]\n",
    "print('title time:', datetime.now() - n)\n",
    "n = datetime.now()\n",
    "testdata['preprocessedDescr'] = [preproc3(el) for el in testdata['description']]\n",
    "print('descr time:', datetime.now() - n)"
   ]
  },
  {
   "cell_type": "code",
   "execution_count": 1,
   "metadata": {
    "collapsed": false
   },
   "outputs": [
    {
     "ename": "NameError",
     "evalue": "name 'sqlite3' is not defined",
     "output_type": "error",
     "traceback": [
      "\u001b[0;31m---------------------------------------------------------------------------\u001b[0m",
      "\u001b[0;31mNameError\u001b[0m                                 Traceback (most recent call last)",
      "\u001b[0;32m<ipython-input-1-31fd6fb3e17c>\u001b[0m in \u001b[0;36m<module>\u001b[0;34m()\u001b[0m\n\u001b[0;32m----> 1\u001b[0;31m \u001b[0mconnection\u001b[0m \u001b[1;33m=\u001b[0m \u001b[0msqlite3\u001b[0m\u001b[1;33m.\u001b[0m\u001b[0mconnect\u001b[0m\u001b[1;33m(\u001b[0m\u001b[1;34m\"C:\\projects\\AvitoML\\data\\items.sqlite\"\u001b[0m\u001b[1;33m)\u001b[0m\u001b[1;33m\u001b[0m\u001b[0m\n\u001b[0m\u001b[1;32m      2\u001b[0m \u001b[1;33m\u001b[0m\u001b[0m\n\u001b[1;32m      3\u001b[0m data = pd.read_sql_query('''select catdata._rowid_ as item_id, preprocessedTitle, preprocessedDescr, price, \n\u001b[1;32m      4\u001b[0m                                 \u001b[0mcategory_id\u001b[0m \u001b[1;32mas\u001b[0m \u001b[0my2\u001b[0m\u001b[1;33m,\u001b[0m \u001b[0mc0ind\u001b[0m \u001b[1;32mas\u001b[0m \u001b[0my0\u001b[0m\u001b[1;33m,\u001b[0m \u001b[0mc1ind\u001b[0m \u001b[1;32mas\u001b[0m \u001b[0my1\u001b[0m\u001b[1;33m\u001b[0m\u001b[0m\n\u001b[1;32m      5\u001b[0m                                 from catdata join catind using(category_id)''', connection)\n",
      "\u001b[0;31mNameError\u001b[0m: name 'sqlite3' is not defined"
     ]
    }
   ],
   "source": [
    "connection = sqlite3.connect(\"C:\\projects\\AvitoML\\data\\items.sqlite\")\n",
    "\n",
    "data = pd.read_sql_query('''select catdata._rowid_ as item_id, preprocessedTitle, preprocessedDescr, price, \n",
    "                                category_id as y2, c0ind as y0, c1ind as y1  \n",
    "                                from catdata join catind using(category_id)''', connection)\n",
    "\n",
    "catdata = pd.read_sql_query('select c0ind as y0, c1ind as y1, category_id as y2 from catind order by category_id ', connection)\n",
    "\n",
    "data.head()"
   ]
  },
  {
   "cell_type": "code",
   "execution_count": 7,
   "metadata": {
    "collapsed": false
   },
   "outputs": [
    {
     "name": "stdout",
     "output_type": "stream",
     "text": [
      "(489517, 6)\n",
      "(54, 3)\n"
     ]
    },
    {
     "data": {
      "text/html": [
       "<div>\n",
       "<table border=\"1\" class=\"dataframe\">\n",
       "  <thead>\n",
       "    <tr style=\"text-align: right;\">\n",
       "      <th></th>\n",
       "      <th>y0</th>\n",
       "      <th>y1</th>\n",
       "      <th>y2</th>\n",
       "    </tr>\n",
       "  </thead>\n",
       "  <tbody>\n",
       "    <tr>\n",
       "      <th>0</th>\n",
       "      <td>3</td>\n",
       "      <td>3</td>\n",
       "      <td>0</td>\n",
       "    </tr>\n",
       "    <tr>\n",
       "      <th>1</th>\n",
       "      <td>3</td>\n",
       "      <td>11</td>\n",
       "      <td>1</td>\n",
       "    </tr>\n",
       "    <tr>\n",
       "      <th>2</th>\n",
       "      <td>3</td>\n",
       "      <td>3</td>\n",
       "      <td>2</td>\n",
       "    </tr>\n",
       "    <tr>\n",
       "      <th>3</th>\n",
       "      <td>3</td>\n",
       "      <td>8</td>\n",
       "      <td>3</td>\n",
       "    </tr>\n",
       "    <tr>\n",
       "      <th>4</th>\n",
       "      <td>3</td>\n",
       "      <td>18</td>\n",
       "      <td>4</td>\n",
       "    </tr>\n",
       "  </tbody>\n",
       "</table>\n",
       "</div>"
      ],
      "text/plain": [
       "   y0  y1  y2\n",
       "0   3   3   0\n",
       "1   3  11   1\n",
       "2   3   3   2\n",
       "3   3   8   3\n",
       "4   3  18   4"
      ]
     },
     "execution_count": 7,
     "metadata": {},
     "output_type": "execute_result"
    }
   ],
   "source": [
    "print(data.shape)\n",
    "print(catdata.shape)\n",
    "catdata.head()"
   ]
  },
  {
   "cell_type": "code",
   "execution_count": 13,
   "metadata": {
    "collapsed": false
   },
   "outputs": [],
   "source": [
    "xT_train=     data['preprocessedTitle'].as_matrix() \n",
    "xD_train=     data['preprocessedDescr'].as_matrix() \n",
    "xT_test = testdata['preprocessedTitle'].as_matrix() \n",
    "xD_test = testdata['preprocessedDescr'].as_matrix() \n",
    "\n",
    "ptrain  =     data['price'].as_matrix()\n",
    "ptest   = testdata['price'].as_matrix()\n",
    "\n",
    "\n",
    "#xPln_train= csr_matrix(MaxAbsScaler().fit_transform(np.log(data['price'].as_matrix()))).T\n",
    "#y = data['y2'].as_matrix() \n",
    "y0 = data['y0'].as_matrix() \n",
    "y1 = data['y1'].as_matrix() \n",
    "y2 = data['y2'].as_matrix() "
   ]
  },
  {
   "cell_type": "code",
   "execution_count": 16,
   "metadata": {
    "collapsed": false
   },
   "outputs": [
    {
     "name": "stdout",
     "output_type": "stream",
     "text": [
      "(489517, 191418) (489517, 191418)\n",
      "(243166, 191418) (243166, 191418)\n",
      "(489517, 382836)\n",
      "(243166, 382836)\n"
     ]
    }
   ],
   "source": [
    "count_vect = CountVectorizer()\n",
    "count_vect.fit(xT_train)\n",
    "count_vect.fit(xD_train)\n",
    "count_vect.fit(xT_test)\n",
    "count_vect.fit(xD_test)\n",
    "\n",
    "X_countTr = count_vect.transform(xT_train)\n",
    "X_countDr = count_vect.transform(xD_train)\n",
    "print(X_countTr.shape,X_countDr.shape)\n",
    "X_countTs = count_vect.transform(xT_test)\n",
    "X_countDs = count_vect.transform(xD_test)\n",
    "print(X_countTs.shape,X_countDs.shape)\n",
    "x_countr = csr_matrix(hstack((X_countTr, X_countDr)))\n",
    "print(x_countr.shape)\n",
    "x_counts = csr_matrix(hstack((X_countTs, X_countDs)))\n",
    "print(x_counts.shape)"
   ]
  },
  {
   "cell_type": "code",
   "execution_count": 105,
   "metadata": {
    "collapsed": false
   },
   "outputs": [
    {
     "name": "stdout",
     "output_type": "stream",
     "text": [
      "(732683,)\n",
      "(732683,)\n"
     ]
    },
    {
     "data": {
      "image/png": "[encoded data removed]",
      "text/plain": [
       "<matplotlib.figure.Figure at 0x1db87c81f60>"
      ]
     },
     "metadata": {},
     "output_type": "display_data"
    },
    {
     "name": "stdout",
     "output_type": "stream",
     "text": [
      "(489517, 1)\n",
      "(243166, 1)\n"
     ]
    }
   ],
   "source": [
    "import matplotlib.pyplot as plt\n",
    "p = np.append(ptrain,ptest)\n",
    "print(p.shape)\n",
    "\n",
    "\n",
    "p = MaxAbsScaler().fit_transform(np.log(p))\n",
    "print(p.shape)\n",
    "plt.hist(p, 50)\n",
    "plt.show()\n",
    "\n",
    "xPln_train= csr_matrix(p[:489517]).T\n",
    "xPln_test=  csr_matrix(p[489517:]).T\n",
    "print(xPln_train.shape)\n",
    "print(xPln_test.shape)"
   ]
  },
  {
   "cell_type": "code",
   "execution_count": 7,
   "metadata": {
    "collapsed": false
   },
   "outputs": [
    {
     "name": "stdout",
     "output_type": "stream",
     "text": [
      "(489517, 120250) (489517, 286485)\n",
      "  (0, 89233)\t1 k   (0, 15366)\t1\n",
      "  (0, 246064)\t1\n",
      "  (0, 176745)\t1\n",
      "(489517, 406735)\n",
      "  (0, 89233)\t1\n",
      "  (0, 135616)\t1\n",
      "  (0, 296995)\t1\n",
      "  (0, 366314)\t1\n"
     ]
    }
   ],
   "source": [
    "count_vect = CountVectorizer()\n",
    "x_countT = count_vect.fit_transform(xT)\n",
    "x_countD = count_vect.fit_transform(xD)\n",
    "\n",
    "print(x_countT.shape,x_countD.shape)\n",
    "x_count = csr_matrix(hstack((x_countT, x_countD))) # !!! ,xP_tf add\n",
    "print(x_countT[0], 'k', x_countD[0])\n",
    "print(x_count.shape)\n",
    "print(x_count[0])"
   ]
  },
  {
   "cell_type": "code",
   "execution_count": 30,
   "metadata": {
    "collapsed": false
   },
   "outputs": [
    {
     "name": "stdout",
     "output_type": "stream",
     "text": [
      "  (0, 127345)\t0.57735026919\n",
      "  (0, 305134)\t0.57735026919\n",
      "  (0, 354455)\t0.57735026919\n",
      "  (0, 382836)\t0.428571428571\n",
      "(489517, 382837)\n",
      "  (0, 120941)\t0.2\n",
      "  (0, 173338)\t0.2\n",
      "  (0, 174070)\t0.2\n",
      "  (0, 301947)\t0.2\n",
      "  (0, 303736)\t0.2\n",
      "  (0, 306758)\t0.2\n",
      "  (0, 308800)\t0.2\n",
      "  (0, 312359)\t0.2\n",
      "  (0, 312614)\t0.2\n",
      "  (0, 315537)\t0.2\n",
      "  (0, 315648)\t0.2\n",
      "  (0, 316006)\t0.2\n",
      "  (0, 318096)\t0.2\n",
      "  (0, 332711)\t0.2\n",
      "  (0, 335538)\t0.2\n",
      "  (0, 340029)\t0.2\n",
      "  (0, 347167)\t0.2\n",
      "  (0, 351312)\t0.2\n",
      "  (0, 351459)\t0.2\n",
      "  (0, 354455)\t0.2\n",
      "  (0, 364756)\t0.2\n",
      "  (0, 365055)\t0.2\n",
      "  (0, 365494)\t0.2\n",
      "  (0, 365527)\t0.2\n",
      "  (0, 365553)\t0.2\n",
      "  (0, 382836)\t0.571428571429\n",
      "(243166, 382837)\n"
     ]
    }
   ],
   "source": [
    "tf_transformer = TfidfTransformer(use_idf=False).fit(x_countr)\n",
    "TfidfTransformer(use_idf=False).fit(x_counts)\n",
    "\n",
    "\n",
    "x_tr = tf_transformer.transform(x_countr)\n",
    "x_tr= csr_matrix(hstack((x_tr, xPln_train)))\n",
    "\n",
    "x_ts = tf_transformer.transform(x_counts)\n",
    "x_ts= csr_matrix(hstack((x_ts, xPln_test)))\n",
    "\n",
    "print(x_tr[0])\n",
    "print(x_tr.shape)\n",
    "print(x_ts[0])\n",
    "print(x_ts.shape)"
   ]
  },
  {
   "cell_type": "code",
   "execution_count": 31,
   "metadata": {
    "collapsed": false
   },
   "outputs": [
    {
     "name": "stdout",
     "output_type": "stream",
     "text": [
      "(391613, 382837) (97904, 382837)\n"
     ]
    }
   ],
   "source": [
    "x_trn, x_val, y_trn, y_val = train_test_split(x_tr, y2, random_state=666, stratify=y2, test_size=0.20)\n",
    "print(x_trn.shape, x_val.shape)\n",
    "#(391613, 406736) (97904, 406736)"
   ]
  },
  {
   "cell_type": "code",
   "execution_count": 33,
   "metadata": {
    "collapsed": false
   },
   "outputs": [
    {
     "name": "stdout",
     "output_type": "stream",
     "text": [
      "(97904, 54)\n",
      "0.882119218827\n",
      "Y0 LR time 0:04:17.640891\n"
     ]
    }
   ],
   "source": [
    "n = datetime.now()\n",
    "logreg = LogisticRegression(solver=\"sag\", multi_class = \"multinomial\", C=5)\n",
    "logreg.fit(x_trn, y_trn)\n",
    "y_lgr = logreg.predict_proba(x_val)\n",
    "print(y_lgr.shape) \n",
    "print(accuracy_score(y_val, np.argmax(y_lgr, axis=1))) ##0.977330715787 - overfitted\n",
    "print('LR time', datetime.now()-n)\n",
    "n = datetime.now()"
   ]
  },
  {
   "cell_type": "code",
   "execution_count": 73,
   "metadata": {
    "collapsed": false
   },
   "outputs": [
    {
     "name": "stdout",
     "output_type": "stream",
     "text": [
      "(97904, 54)\n",
      "0.888339597974\n",
      "SVM time 0:29:05.061933\n"
     ]
    }
   ],
   "source": [
    "n = datetime.now()\n",
    "svm = SGDClassifier(loss='modified_huber',alpha=1e-5,n_iter=700,random_state=666,n_jobs=-1)\n",
    "svm = svm.fit(x_trn, y_trn)\n",
    "\n",
    "yrd_svm = svm.predict_proba(x_val)\n",
    "print(yrd_svm.shape)\n",
    "\n",
    "print(accuracy_score(y_val, np.argmax(yrd_svm, axis=1)))\n",
    "print('SVM time', datetime.now()-n)\n",
    "n = datetime.now()\n"
   ]
  },
  {
   "cell_type": "code",
   "execution_count": 34,
   "metadata": {
    "collapsed": false
   },
   "outputs": [
    {
     "name": "stdout",
     "output_type": "stream",
     "text": [
      "(489517, 4)\n",
      "0.975716880108\n",
      "Y0 LR time 0:00:52.269890\n",
      "(489517, 23)\n",
      "0.970638404795\n",
      "Y1 LR time 0:02:55.793015\n",
      "(489517, 54)\n",
      "0.936539486882\n",
      "Y2 LR time 0:05:05.652708\n"
     ]
    }
   ],
   "source": [
    "n = datetime.now()\n",
    "logreg0 = LogisticRegression(solver=\"sag\", multi_class = \"multinomial\", C=5)\n",
    "logreg0.fit(x_tr, y0)\n",
    "y0_lgr = logreg0.predict_proba(x_tr)\n",
    "print(y0_lgr.shape) \n",
    "print(accuracy_score(y0, np.argmax(y0_lgr, axis=1))) ##0.977330715787 - overfitted\n",
    "print('Y0 LR time', datetime.now()-n)\n",
    "n = datetime.now()\n",
    "\n",
    "logreg1 = LogisticRegression(solver=\"sag\", multi_class = \"multinomial\", C=5)\n",
    "logreg1.fit(x_tr, y1)\n",
    "y1_lgr = logreg1.predict_proba(x_tr)\n",
    "print(y1_lgr.shape)\n",
    "print(accuracy_score(y1, np.argmax(y1_lgr, axis=1))) ##0.972464694791 - overfitted\n",
    "print('Y1 LR time', datetime.now()-n)\n",
    "n = datetime.now()\n",
    "\n",
    "logreg2 = LogisticRegression(solver=\"sag\", multi_class = \"multinomial\", C=5)\n",
    "logreg2.fit(x_tr, y2)\n",
    "y2_lgr = logreg2.predict_proba(x_tr)\n",
    "print(y2_lgr.shape)\n",
    "print(accuracy_score(y2, np.argmax(y2_lgr, axis=1))) ##0.939374934885 - overfitted \n",
    "                                                        ##0.881720869423 - ok\n",
    "print('Y2 LR time', datetime.now()-n)\n",
    "n = datetime.now()"
   ]
  },
  {
   "cell_type": "code",
   "execution_count": 108,
   "metadata": {
    "collapsed": false
   },
   "outputs": [
    {
     "name": "stdout",
     "output_type": "stream",
     "text": [
      "(489517, 4)\n",
      "0.967271820999\n",
      "Y0 CLF time 0:03:52.950597\n",
      "(489517, 23)\n",
      "0.958565279653\n",
      "Y1 CLF time 0:14:50.750033\n",
      "(489517, 54)\n",
      "0.915097943483\n",
      "Y2 CLF time 0:37:01.923953\n"
     ]
    }
   ],
   "source": [
    "n = datetime.now()\n",
    "sgd0 = SGDClassifier(loss='modified_huber',alpha=1e-5,n_iter=700,random_state=666,n_jobs=-1)\n",
    "sgd0.fit(x_tr, y0)\n",
    "y0_lgr = sgd0.predict_proba(x_tr)\n",
    "print(y0_lgr.shape) \n",
    "print(accuracy_score(y0, np.argmax(y0_lgr, axis=1))) ##0.977330715787 - overfitted\n",
    "print('Y0 SGD time', datetime.now()-n)\n",
    "n = datetime.now()\n",
    "\n",
    "sgd1 = SGDClassifier(loss='modified_huber',alpha=1e-5,n_iter=700,random_state=666,n_jobs=-1)\n",
    "sgd1.fit(x_tr, y1)\n",
    "y1_lgr = sgd1.predict_proba(x_tr)\n",
    "print(y1_lgr.shape)\n",
    "print(accuracy_score(y1, np.argmax(y1_lgr, axis=1))) ##0.972464694791 - overfitted\n",
    "print('Y1 SGD time', datetime.now()-n)\n",
    "n = datetime.now()\n",
    "\n",
    "sgd2 = SGDClassifier(loss='modified_huber',alpha=1e-5,n_iter=700,random_state=666,n_jobs=-1)\n",
    "sgd2.fit(x_tr, y2)\n",
    "y2_lgr = sgd2.predict_proba(x_tr)\n",
    "print(y2_lgr.shape)\n",
    "print(accuracy_score(y2, np.argmax(y2_lgr, axis=1))) ##0.939374934885 - overfitted \n",
    "                                                        ##0.881720869423 - ok\n",
    "print('Y2 SGD time', datetime.now()-n)\n",
    "n = datetime.now()"
   ]
  },
  {
   "cell_type": "code",
   "execution_count": 109,
   "metadata": {
    "collapsed": false
   },
   "outputs": [
    {
     "name": "stdout",
     "output_type": "stream",
     "text": [
      "(243166, 54) (243166, 23) (243166, 4)\n",
      "(243166, 54) (243166, 23) (243166, 4)\n",
      "{0: 3, 1: 11, 2: 3, 3: 8, 4: 18, 5: 22, 6: 3, 7: 12, 8: 18, 9: 3, 10: 3, 11: 3, 12: 22, 13: 1, 14: 1, 15: 5, 16: 14, 17: 5, 18: 14, 19: 14, 20: 7, 21: 5, 22: 14, 23: 14, 24: 6, 25: 5, 26: 20, 27: 14, 28: 14, 29: 20, 30: 2, 31: 10, 32: 2, 33: 10, 34: 2, 35: 10, 36: 0, 37: 15, 38: 10, 39: 10, 40: 0, 41: 2, 42: 4, 43: 17, 44: 16, 45: 16, 46: 4, 47: 4, 48: 21, 49: 9, 50: 13, 51: 17, 52: 13, 53: 19} {0: 3, 1: 3, 2: 3, 3: 3, 4: 3, 5: 3, 6: 3, 7: 3, 8: 3, 9: 3, 10: 3, 11: 3, 12: 3, 13: 3, 14: 3, 15: 2, 16: 2, 17: 2, 18: 2, 19: 2, 20: 2, 21: 2, 22: 2, 23: 2, 24: 2, 25: 2, 26: 2, 27: 2, 28: 2, 29: 2, 30: 1, 31: 1, 32: 1, 33: 1, 34: 1, 35: 1, 36: 1, 37: 1, 38: 1, 39: 1, 40: 1, 41: 1, 42: 0, 43: 0, 44: 0, 45: 0, 46: 0, 47: 0, 48: 0, 49: 0, 50: 0, 51: 0, 52: 0, 53: 0}\n"
     ]
    }
   ],
   "source": [
    "cat1dict = {}\n",
    "cat0dict = {}\n",
    "\n",
    "X = x_ts\n",
    "\n",
    "#Y = y2\n",
    "\n",
    "#print(accuracy_score(y2, np.argmax(y2_lgr, axis=1)))\n",
    "y0_lgr = logreg0.predict_proba(X)\n",
    "y1_lgr = logreg1.predict_proba(X)\n",
    "y2_lgr = logreg2.predict_proba(X)\n",
    "\n",
    "y0_sgd = sgd0.predict_proba(X)\n",
    "y1_sgd = sgd1.predict_proba(X)\n",
    "y2_sgd = sgd2.predict_proba(X)\n",
    "\n",
    "print(y2_lgr.shape, y1_lgr.shape,y0_lgr.shape)\n",
    "print(y2_sgd.shape, y1_sgd.shape,y0_sgd.shape)\n",
    "for i,r in catdata.iterrows():\n",
    "    cat1dict[r['y2']] = r['y1'] \n",
    "    cat0dict[r['y2']] = r['y0']     \n",
    "print(cat1dict, cat0dict)\n"
   ]
  },
  {
   "cell_type": "code",
   "execution_count": 66,
   "metadata": {
    "collapsed": false
   },
   "outputs": [
    {
     "name": "stdout",
     "output_type": "stream",
     "text": [
      "[  3.50194664e-02   9.56504603e-03   2.41960864e-02   4.09910434e-03\n",
      "   9.32249597e-03   4.76550887e-03   8.73169617e-03   8.84495464e-04\n",
      "   3.89185876e-03   5.36532788e-04   1.48841822e-02   4.97697110e-03\n",
      "   1.54875101e-02   3.68358543e-03   2.31860266e-03   2.02507235e-03\n",
      "   6.16551225e-03   3.40299041e-03   8.71100438e-03   5.68152661e-03\n",
      "   5.17573641e-03   1.57308044e-03   2.74947758e-03   8.33842472e-03\n",
      "   1.20056973e-04   1.59175985e-03   3.91662836e-03   4.81121512e-03\n",
      "   1.39021446e-03   6.38334442e-03   3.68112212e-03   2.03731163e-03\n",
      "   4.75323821e-03   5.33113351e-03   3.25927567e-03   3.40924232e-03\n",
      "   7.69292452e-02   4.10782473e-03   1.00302096e-03   9.23529532e-03\n",
      "   1.05863137e-02   1.00347072e-03   3.21411004e-03   3.36733804e-04\n",
      "   3.16646880e-02   8.27910673e-04   5.47304377e-03   6.03693827e-03\n",
      "   2.02247858e-04   5.47537610e-03   5.20364817e-01   1.97974820e-04\n",
      "   9.50866164e-02   1.38386242e-03]\n",
      "[  9.26914825e-02   5.66883409e-03   5.65424450e-03   5.02297368e-02\n",
      "   6.63611710e-03   1.11911997e-02   1.12644582e-04   5.34626532e-03\n",
      "   4.91682233e-03   5.10702876e-03   3.89222993e-03   8.14291648e-03\n",
      "   6.64788993e-04   6.94647769e-01   2.35915171e-02   3.53548421e-03\n",
      "   2.67947862e-02   3.41110952e-04   1.57062978e-02   1.34566653e-03\n",
      "   1.00861586e-02   1.62296574e-04   2.35346017e-02]\n",
      "[ 0.8327559   0.03556971  0.05939583  0.07227856]\n",
      "50\n",
      "50\n"
     ]
    }
   ],
   "source": [
    "i = 6\n",
    "print(y2_lgr[i])\n",
    "print(y1_lgr[i])\n",
    "print(y0_lgr[i])\n",
    "print(y2p[i])\n",
    "print(y2hp[i])"
   ]
  },
  {
   "cell_type": "code",
   "execution_count": 113,
   "metadata": {
    "collapsed": false
   },
   "outputs": [
    {
     "data": {
      "image/png": "[encoded data removed]",
      "text/plain": [
       "<matplotlib.figure.Figure at 0x1db1e1bef60>"
      ]
     },
     "metadata": {},
     "output_type": "display_data"
    },
    {
     "data": {
      "text/plain": [
       "0.899064389606"
      ]
     },
     "execution_count": 113,
     "metadata": {},
     "output_type": "execute_result"
    }
   ],
   "source": [
    "cat1map = np.array(list(cat1dict.values()))\n",
    "cat0map = np.array(list(cat0dict.values()))\n",
    "y2_ttl = y2_sgd.copy()\n",
    "#print(cat1map, cat0map)\n",
    "for i in range(len(y2_sgd)):    \n",
    "    y2_ttl[i] *= y1_sgd[i][cat1map] \n",
    "    y2_ttl[i] *= y0_sgd[i][cat0map]\n",
    "y2p_sgd  = np.argmax(y2_sgd, axis=1)\n",
    "y2hp_sgd = np.argmax(y2_sgd, axis=1)\n",
    "plt.hist(y2hp_sgd,54)\n",
    "plt.show()\n",
    "--0.899064389606    "
   ]
  },
  {
   "cell_type": "code",
   "execution_count": 114,
   "metadata": {
    "collapsed": false
   },
   "outputs": [
    {
     "data": {
      "image/png": "[encoded data removed]",
      "text/plain": [
       "<matplotlib.figure.Figure at 0x1db8779fe10>"
      ]
     },
     "metadata": {},
     "output_type": "display_data"
    }
   ],
   "source": [
    "cat1map = np.array(list(cat1dict.values()))\n",
    "cat0map = np.array(list(cat0dict.values()))\n",
    "y2_ttl = y2_lgr.copy()\n",
    "#print(cat1map, cat0map)\n",
    "for i in range(len(y2_lgr)):    \n",
    "    y2_ttl[i] *= y1_lgr[i][cat1map] \n",
    "    y2_ttl[i] *= y0_lgr[i][cat0map]\n",
    "y2p_lgr  = np.argmax(y2_lgr, axis=1)\n",
    "y2hp_lgr = np.argmax(y2_lgr, axis=1)\n",
    "plt.hist(y2hp_lgr,54)\n",
    "plt.show()"
   ]
  },
  {
   "cell_type": "code",
   "execution_count": 117,
   "metadata": {
    "collapsed": false
   },
   "outputs": [
    {
     "name": "stdout",
     "output_type": "stream",
     "text": [
      "0.95489912241\n",
      "0.983106190833\n"
     ]
    }
   ],
   "source": [
    "print(accuracy_score(y2hp_lgr, y2hp_sgd))\n",
    "print(accuracy_score(res['category_id'], y2hp_lgr))"
   ]
  },
  {
   "cell_type": "code",
   "execution_count": 118,
   "metadata": {
    "collapsed": false
   },
   "outputs": [
    {
     "name": "stdout",
     "output_type": "stream",
     "text": [
      "(243166, 1)\n"
     ]
    },
    {
     "data": {
      "text/html": [
       "<div>\n",
       "<table border=\"1\" class=\"dataframe\">\n",
       "  <thead>\n",
       "    <tr style=\"text-align: right;\">\n",
       "      <th></th>\n",
       "      <th>category_id</th>\n",
       "    </tr>\n",
       "    <tr>\n",
       "      <th>item_id</th>\n",
       "      <th></th>\n",
       "    </tr>\n",
       "  </thead>\n",
       "  <tbody>\n",
       "    <tr>\n",
       "      <th>489517</th>\n",
       "      <td>22</td>\n",
       "    </tr>\n",
       "    <tr>\n",
       "      <th>489518</th>\n",
       "      <td>0</td>\n",
       "    </tr>\n",
       "    <tr>\n",
       "      <th>489519</th>\n",
       "      <td>15</td>\n",
       "    </tr>\n",
       "    <tr>\n",
       "      <th>489520</th>\n",
       "      <td>33</td>\n",
       "    </tr>\n",
       "    <tr>\n",
       "      <th>489521</th>\n",
       "      <td>13</td>\n",
       "    </tr>\n",
       "  </tbody>\n",
       "</table>\n",
       "</div>"
      ],
      "text/plain": [
       "         category_id\n",
       "item_id             \n",
       "489517            22\n",
       "489518             0\n",
       "489519            15\n",
       "489520            33\n",
       "489521            13"
      ]
     },
     "execution_count": 118,
     "metadata": {},
     "output_type": "execute_result"
    }
   ],
   "source": [
    "res = pd.DataFrame(y2hp_sgd, index = testdata['item_id'], columns=['category_id'])\n",
    "#res['item_id'] = testdata['item_id']\n",
    "#res['category_id'] = y2hp\n",
    "print(res.shape)\n",
    "\n",
    "res.to_csv(homeDIR+ 'submission.csv', encoding='utf-8')\n",
    "res.head()"
   ]
  },
  {
   "cell_type": "code",
   "execution_count": 70,
   "metadata": {
    "collapsed": false
   },
   "outputs": [
    {
     "data": {
      "text/plain": [
       "Index(['item_id', 'category_id'], dtype='object')"
      ]
     },
     "execution_count": 70,
     "metadata": {},
     "output_type": "execute_result"
    }
   ],
   "source": [
    "res.columns"
   ]
  },
  {
   "cell_type": "code",
   "execution_count": null,
   "metadata": {
    "collapsed": true
   },
   "outputs": [],
   "source": [
    "print(accuracy_score(Y, np.argmax(y2_lgr, axis=1))) ##0.939374934885 - overfitted\n",
    "print(accuracy_score(Y, np.argmax(y2_ttl, axis=1))) "
   ]
  },
  {
   "cell_type": "code",
   "execution_count": 60,
   "metadata": {
    "collapsed": false
   },
   "outputs": [
    {
     "name": "stdout",
     "output_type": "stream",
     "text": [
      "<class 'numpy.ndarray'>\n"
     ]
    }
   ],
   "source": [
    "print(type(y2))"
   ]
  },
  {
   "cell_type": "code",
   "execution_count": null,
   "metadata": {
    "collapsed": true
   },
   "outputs": [],
   "source": [
    "if y2[i] != y2p:\n",
    "        y1p = cat1dict[y2p]\n",
    "        if cat1dict[y2[i]] != y1p:\n",
    "            print(i,'true y2:',  y2[i], y2_lgr[i][y2[i]], 'pred y2:',y2p, y2_lgr[i][y2p] )\n",
    "\n",
    "            print(' true y1:', cat1dict[y2[i]], y1_lgr[i][cat1dict[y2[i]]] ) ## true y1\n",
    "            print(' pred y1:', cat1dict[y2p  ], y1_lgr[i][cat1dict[y2p]] ) ## false y1\n",
    "            \n",
    "            print(' true y0:', cat0dict[y2[i]], y0_lgr[i][cat0dict[y2[i]]] ) ## true y0\n",
    "            print(' pred y0:', cat0dict[y2p  ], y0_lgr[i][cat0dict[y2p]] ) ## false y0\n",
    "            \n",
    "            print(y2_lgr[i],len(y2_lgr[i]))\n",
    "            \n",
    "            print(y1_lgr[i][cat1map],len(y1_lgr[i][cat1map]))\n",
    "            print(y1_lgr[i],len(y1_lgr[i]))\n",
    "            \n",
    "            print(y0_lgr[i][cat0map],len(y0_lgr[i][cat0map]))\n",
    "            print(y0_lgr[i],len(y0_lgr[i]))\n",
    "            \n",
    "            y2_ttl[i] *= y1_lgr[i][cat1map] \n",
    "            y2_ttl[i] *= y0_lgr[i][cat0map]\n",
    "            \n",
    "            print(len(y2_ttl[i]), np.argmax(y2_ttl[i]), y2_ttl[i])\n",
    "            \n",
    "            \n",
    "            break"
   ]
  },
  {
   "cell_type": "code",
   "execution_count": 149,
   "metadata": {
    "collapsed": false
   },
   "outputs": [
    {
     "name": "stdout",
     "output_type": "stream",
     "text": [
      "(391613, 406736) (97904, 406736)\n"
     ]
    }
   ],
   "source": [
    "x_trn, x_val, y_trn, y_val = train_test_split(x_tf, y, random_state=666, stratify=y, test_size=0.20)\n",
    "print(x_trn.shape, x_val.shape)"
   ]
  },
  {
   "cell_type": "code",
   "execution_count": 150,
   "metadata": {
    "collapsed": false
   },
   "outputs": [
    {
     "name": "stdout",
     "output_type": "stream",
     "text": [
      "(97904, 4)\n",
      "0.957580895571\n",
      "y\n",
      "0    0.926599\n",
      "1    0.947204\n",
      "2    0.964371\n",
      "3    0.985116\n",
      "Name: correct, dtype: float64\n",
      "LR time 0:00:40.205063\n"
     ]
    }
   ],
   "source": [
    "n = datetime.now()\n",
    "logreg = LogisticRegression(solver=\"sag\", multi_class = \"multinomial\", C=5)\n",
    "logreg.fit(x_trn, y_trn)\n",
    "yrd_lgr = logreg.predict_proba(x_val)\n",
    "print(yrd_lgr.shape)\n",
    "print(accuracy_score(y_val, np.argmax(yrd_lgr, axis=1)))\n",
    "\n",
    "err_df = pd.DataFrame()\n",
    "err_df['y']= y_val\n",
    "err_df['y_p']= np.argmax(yrd_lgr, axis=1)\n",
    "err_df['correct']= y_val==np.argmax(yrd_lgr, axis=1)\n",
    "print(err_df[err_df.y==err_df.y_p].groupby(['y'])['correct'].count() / err_df.groupby(['y'])['correct'].count())\n",
    "\n",
    "\n",
    "print('LR time', datetime.now()-n)\n",
    "#0.791867543716 LR for description\n",
    "#0.854694394509 LR for title\n",
    "#0.881332734107 LR for both\n",
    "#0.881720869423 LR for both and normalized price\n",
    "#0.957529825135 LR for both for y0"
   ]
  },
  {
   "cell_type": "code",
   "execution_count": 151,
   "metadata": {
    "collapsed": false
   },
   "outputs": [
    {
     "name": "stdout",
     "output_type": "stream",
     "text": [
      "(97904, 4)\n",
      "(97904, 4)\n",
      "0.957989459062\n",
      "y\n",
      "0    0.076992\n",
      "1    0.052377\n",
      "2    0.033406\n",
      "3    0.013019\n",
      "Name: correct, dtype: float64\n",
      "SGD time 0:02:48.249999\n"
     ]
    }
   ],
   "source": [
    "n = datetime.now()\n",
    "print(yrd_lgr.shape)\n",
    "svm = SGDClassifier(loss='modified_huber',alpha=1e-5,n_iter=700,random_state=666,n_jobs=-1)\n",
    "svm = svm.fit(x_trn, y_trn)\n",
    "\n",
    "yrd_svm = svm.predict_proba(x_val)\n",
    "print(yrd_svm.shape)\n",
    "print(accuracy_score(y_val, np.argmax(yrd_svm, axis=1)))\n",
    "\n",
    "err_df = pd.DataFrame()\n",
    "err_df['y']= y_val\n",
    "err_df['y_p']= np.argmax(yrd_svm, axis=1)\n",
    "err_df['correct']= y_val==np.argmax(yrd_svm, axis=1)\n",
    "print(err_df[err_df.y==err_df.y_p].groupby(['y'])['correct'].count() / err_df.groupby(['y'])['correct'].count())\n",
    "\n",
    "print('SGD time', datetime.now()-n)"
   ]
  },
  {
   "cell_type": "code",
   "execution_count": 152,
   "metadata": {
    "collapsed": false
   },
   "outputs": [
    {
     "name": "stdout",
     "output_type": "stream",
     "text": [
      "(97904, 4)\n",
      "0.948949991829\n",
      "y\n",
      "0    0.898721\n",
      "1    0.941053\n",
      "2    0.964300\n",
      "3    0.981690\n",
      "Name: correct, dtype: float64\n",
      "NB time 0:00:00.540487\n"
     ]
    }
   ],
   "source": [
    "n = datetime.now()\n",
    "mnb = MultinomialNB(alpha=0.03)\n",
    "mnb = mnb.fit(x_trn, y_trn)\n",
    "\n",
    "yrd_mnb = mnb.predict_proba(x_val)\n",
    "\n",
    "print(yrd_mnb.shape)\n",
    "print(accuracy_score(y_val, np.argmax(yrd_mnb, axis=1)))\n",
    "\n",
    "err_df = pd.DataFrame()\n",
    "err_df['y']= y_val\n",
    "err_df['y_p']= np.argmax(yrd_mnb, axis=1)\n",
    "err_df['correct']= y_val==np.argmax(yrd_mnb, axis=1)\n",
    "print(err_df[err_df.y==err_df.y_p].groupby(['y'])['correct'].count() / err_df.groupby(['y'])['correct'].count())\n",
    "\n",
    "print('NB time', datetime.now() - n)"
   ]
  },
  {
   "cell_type": "code",
   "execution_count": 88,
   "metadata": {
    "collapsed": false
   },
   "outputs": [
    {
     "name": "stdout",
     "output_type": "stream",
     "text": [
      "0 (110003, 406735) (110003,)\n",
      "[0, 1, 2, 3, 4, 5, 6, 7, 8, 9, 10, 11, 12, 13, 14, 15, 16, 17, 18, 19, 20, 21, 22, 23, 24, 25, 26, 27, 28, 29, 30, 31, 32, 33, 34, 35, 36, 37, 38, 39, 40, 41, 42, 43, 44, 45, 46, 47, 48, 49, 50, 51, 52, 53]\n",
      "(88002, 406735) (22001, 406735)\n",
      "(22001, 54)\n",
      "LogReg 0.88064178901\n",
      "NB 0.882823508022\n",
      "1 (106823, 406735) (106823,)\n",
      "[0, 1, 2, 3, 4, 5, 6, 8, 9, 10, 11, 12, 14, 15, 16, 17, 18, 19, 20, 21, 22, 23, 24, 25, 26, 27, 28, 29, 30, 31, 32, 33, 34, 35, 36, 37, 38, 39, 40, 41, 42, 43, 44, 45, 46, 47, 48, 49, 50, 51, 52, 53]\n",
      "(85458, 406735) (21365, 406735)\n",
      "(21365, 52)\n",
      "LogReg 0.871284811608\n",
      "NB 0.862672595366\n",
      "2 (141238, 406735) (141238,)\n",
      "[0, 1, 2, 3, 4, 5, 6, 7, 8, 9, 10, 11, 12, 13, 14, 15, 16, 17, 18, 19, 20, 21, 22, 23, 24, 25, 26, 27, 28, 29, 30, 31, 32, 33, 34, 35, 36, 37, 38, 39, 40, 41, 42, 43, 44, 45, 46, 47, 48, 49, 50, 51, 52, 53]\n",
      "(112990, 406735) (28248, 406735)\n",
      "(28248, 54)\n",
      "LogReg 0.855741999434\n",
      "NB 0.852378929482\n",
      "3 (131453, 406735) (131453,)\n",
      "[0, 1, 2, 3, 4, 5, 6, 7, 8, 9, 10, 11, 12, 13, 14, 15, 17, 18, 19, 20, 21, 22, 23, 25, 26, 27, 28, 29, 30, 31, 32, 33, 34, 35, 36, 37, 38, 39, 41, 42, 43, 44, 45, 46, 47, 49, 50, 51, 52, 53]\n",
      "(105162, 406735) (26291, 406735)\n",
      "(26291, 50)\n",
      "LogReg 0.934578372827\n",
      "NB 0.918679395991\n"
     ]
    }
   ],
   "source": [
    "s1_out = s1_clf.predict_proba(x_tf)\n",
    "s1_out = np.argmax(s1_out, axis=1)\n",
    "#s1_out = data['y0'].as_matrix()\n",
    "c0set = sorted(set(s1_out))\n",
    "y2 = data['y2'].as_matrix() \n",
    "\n",
    "for c0 in c0set:\n",
    "    xc0 = x_tf[s1_out == c0]\n",
    "    yc0 = y2[s1_out == c0]\n",
    "    print(c0, xc0.shape,yc0.shape)\n",
    "    c2set = sorted(set(yc0))\n",
    "    idx2label = dict(enumerate(c2set))\n",
    "    label2idx = {v: k for k, v in idx2label.items()}\n",
    "    print(c2set)\n",
    "    yc0 = np.array([label2idx[cat] for cat in yc0.tolist()])\n",
    "    \n",
    "    x_trn, x_val, y_trn, y_val = train_test_split(xc0, yc0, random_state=666,  test_size=0.20)\n",
    "    print(x_trn.shape, x_val.shape)\n",
    "    \n",
    "    logreg = LogisticRegression(solver=\"sag\", multi_class = \"multinomial\", C=5)\n",
    "    logreg.fit(x_trn, y_trn)\n",
    "    yrd_lgr = logreg.predict_proba(x_val)\n",
    "    #print(yrd_lgr[0], np.argmax(yrd_lgr[0]),y_val[0] )\n",
    "    print(yrd_lgr.shape)\n",
    "    print('LogReg',accuracy_score(y_val, np.argmax(yrd_lgr, axis=1)))\n",
    "\n",
    "    mnb = MultinomialNB(alpha=0.03)\n",
    "    mnb = mnb.fit(x_trn, y_trn)\n",
    "    yrd_mnb = mnb.predict_proba(x_val)\n",
    "    print('NB',accuracy_score(y_val, np.argmax(yrd_mnb, axis=1)))\n",
    "\n",
    "    #svm = SGDClassifier(loss='modified_huber',alpha=1e-5,n_iter=700,random_state=666,n_jobs=-1)\n",
    "    #svm = svm.fit(x_trn, y_trn)\n",
    "    #yrd_svm = svm.predict_proba(x_val)\n",
    "    #print('SVM',accuracy_score(y_val, np.argmax(yrd_svm, axis=1)))\n",
    "    \n",
    "    ##NEED REINDEX!"
   ]
  },
  {
   "cell_type": "code",
   "execution_count": null,
   "metadata": {
    "collapsed": true
   },
   "outputs": [],
   "source": [
    "0    0.926510  -> 0.88 (0.91)\n",
    "1    0.947390  -> 0.87 (0.899)\n",
    "2    0.964121  -> 0.85 (0.88)\n",
    "3    0.985154  -> 0.93 (0.94)"
   ]
  },
  {
   "cell_type": "code",
   "execution_count": 16,
   "metadata": {
    "collapsed": false
   },
   "outputs": [
    {
     "name": "stdout",
     "output_type": "stream",
     "text": [
      "(489517, 4)\n",
      "[  9.09025503e-04   1.97521402e-04   9.98851868e-01   4.15851114e-05]\n",
      "(489517, 406739)\n"
     ]
    }
   ],
   "source": [
    "s1_out = logreg.predict_proba(x_tf)\n",
    "print(s1_out.shape)\n",
    "print(s1_out[0])\n",
    "s2_in = csr_matrix(hstack((x_tf, s1_out)))\n",
    "print(s2_in.shape)\n",
    "s2_y = data['y1'].as_matrix()"
   ]
  },
  {
   "cell_type": "code",
   "execution_count": 17,
   "metadata": {
    "collapsed": false
   },
   "outputs": [
    {
     "name": "stdout",
     "output_type": "stream",
     "text": [
      "(391613, 406739) (97904, 406739)\n"
     ]
    }
   ],
   "source": [
    "x_trn, x_val, y_trn, y_val = train_test_split(s2_in, s2_y, random_state=666, stratify=y, test_size=0.20)\n",
    "print(x_trn.shape, x_val.shape)"
   ]
  },
  {
   "cell_type": "code",
   "execution_count": 22,
   "metadata": {
    "collapsed": false
   },
   "outputs": [
    {
     "name": "stdout",
     "output_type": "stream",
     "text": [
      "(97904, 23)\n",
      "0.936805442066\n",
      "fit for s2: 0:02:19.055009\n"
     ]
    }
   ],
   "source": [
    "from datetime import datetime\n",
    "n = datetime.now()\n",
    "logreg = LogisticRegression(solver=\"sag\", multi_class = \"multinomial\", C=5)\n",
    "logreg.fit(x_trn, y_trn)\n",
    "yrd_lgr = logreg.predict_proba(x_val)\n",
    "print(yrd_lgr.shape)\n",
    "print(accuracy_score(y_val, np.argmax(yrd_lgr, axis=1)))\n",
    "print('fit for s2:', datetime.now() - n)\n",
    "\n",
    "#0.936805442066 for LR"
   ]
  },
  {
   "cell_type": "code",
   "execution_count": 23,
   "metadata": {
    "collapsed": false
   },
   "outputs": [
    {
     "name": "stdout",
     "output_type": "stream",
     "text": [
      "(489517, 23)\n",
      "(489517, 406762)\n"
     ]
    }
   ],
   "source": [
    "s2_out = logreg.predict_proba(s2_in)\n",
    "print(s2_out.shape)\n",
    "s3_in = csr_matrix(hstack((s2_in, s2_out)))\n",
    "print(s3_in.shape)\n",
    "s3_y = data['y2'].as_matrix()"
   ]
  },
  {
   "cell_type": "code",
   "execution_count": 26,
   "metadata": {
    "collapsed": false
   },
   "outputs": [
    {
     "name": "stdout",
     "output_type": "stream",
     "text": [
      "(391613, 406762) (97904, 406762)\n"
     ]
    }
   ],
   "source": [
    "x_trn, x_val, y_trn, y_val = train_test_split(s3_in, s3_y, random_state=666, stratify=y, test_size=0.20)\n",
    "print(x_trn.shape, x_val.shape)"
   ]
  },
  {
   "cell_type": "code",
   "execution_count": 27,
   "metadata": {
    "collapsed": false
   },
   "outputs": [
    {
     "name": "stdout",
     "output_type": "stream",
     "text": [
      "(97904, 54)\n",
      "0.875418777578\n",
      "fit for s3: 0:09:12.468643\n"
     ]
    }
   ],
   "source": [
    "from datetime import datetime\n",
    "n = datetime.now()\n",
    "logreg = LogisticRegression(solver=\"sag\", multi_class = \"multinomial\", C=5)\n",
    "logreg.fit(x_trn, y_trn)\n",
    "yrd_lgr = logreg.predict_proba(x_val)\n",
    "print(yrd_lgr.shape)\n",
    "print(accuracy_score(y_val, np.argmax(yrd_lgr, axis=1)))\n",
    "print('fit for s3:', datetime.now() - n)\n",
    "\n",
    "#0.875418777578"
   ]
  }
 ],
 "metadata": {
  "kernelspec": {
   "display_name": "Python 3",
   "language": "python",
   "name": "python3"
  },
  "language_info": {
   "codemirror_mode": {
    "name": "ipython",
    "version": 3
   },
   "file_extension": ".py",
   "mimetype": "text/x-python",
   "name": "python",
   "nbconvert_exporter": "python",
   "pygments_lexer": "ipython3",
   "version": "3.6.0"
  }
 },
 "nbformat": 4,
 "nbformat_minor": 0
}
