{
 "cells": [
  {
   "cell_type": "code",
   "execution_count": 1,
   "metadata": {
    "ExecuteTime": {
     "end_time": "2018-01-26T15:48:24.602258Z",
     "start_time": "2018-01-26T15:48:23.192160Z"
    }
   },
   "outputs": [],
   "source": [
    "# загружаем основные библиотеки для преобразования\n",
    "import sys\n",
    "\n",
    "import pandas as pd\n",
    "import itertools\n",
    "import nltk\n",
    "import numpy as np\n",
    "import pandas as pd\n",
    "import re\n",
    "from multiprocessing import Pool\n",
    "from nltk.corpus import stopwords\n",
    "from pymystem3 import Mystem\n",
    "\n",
    "from nltk.stem import SnowballStemmer\n",
    "import pymorphy2\n",
    "\n",
    "skip_words = []\n",
    "\n",
    "# для нормализации цены \n",
    "from math import log"
   ]
  },
  {
   "cell_type": "code",
   "execution_count": 2,
   "metadata": {
    "ExecuteTime": {
     "end_time": "2018-01-26T15:48:30.450614Z",
     "start_time": "2018-01-26T15:48:24.604351Z"
    }
   },
   "outputs": [
    {
     "name": "stdout",
     "output_type": "stream",
     "text": [
      "489517\n",
      "482015\n",
      "   item_id                                              title  \\\n",
      "0        0                                            Картина   \n",
      "1        1                        Стулья из прессованной кожи   \n",
      "2        2                                 Домашняя мини баня   \n",
      "3        3  Эксклюзивная коллекция книг \"Трансаэро\" + подарок   \n",
      "4        4                                       Ноутбук aser   \n",
      "\n",
      "                                         description    price  category_id  \n",
      "0                         Гобелен. Размеры 139х84см.   1000.0           19  \n",
      "1  Продам недорого 4 стула из светлой прессованно...   1250.0           22  \n",
      "2  Мини баня МБ-1(мини сауна), предназначена для ...  13000.0           37  \n",
      "3  Продам эксклюзивную коллекцию книг, выпущенную...   4000.0           43  \n",
      "4  Продаётся ноутбук ACER e5-511C2TA. Куплен в ко...  19000.0            1  \n",
      "(482015, 5)\n"
     ]
    }
   ],
   "source": [
    "# загружаем нашу тренировочную выборку, удяляем дубликаты по описанию, и смотрим что у нас там вообще есть\n",
    "df = pd.read_csv('train.csv')\n",
    "print(len(df))\n",
    "df = df.drop_duplicates(subset='description')\n",
    "print(len(df))\n",
    "print(df.head())\n",
    "print(df.shape)"
   ]
  },
  {
   "cell_type": "code",
   "execution_count": 3,
   "metadata": {
    "ExecuteTime": {
     "end_time": "2018-01-26T15:48:30.503011Z",
     "start_time": "2018-01-26T15:48:30.453570Z"
    }
   },
   "outputs": [
    {
     "name": "stdout",
     "output_type": "stream",
     "text": [
      "[0, 1, 2, 3, 4, 5, 6, 7, 8, 9, 10, 11, 12, 13, 14, 15, 16, 17, 18, 19, 20, 21, 22, 23, 24, 25, 26, 27, 28, 29, 30, 31, 32, 33, 34, 35, 36, 37, 38, 39, 40, 41, 42, 43, 44, 45, 46, 47, 48, 49, 50, 51, 52, 53]\n"
     ]
    }
   ],
   "source": [
    "# смотрим что есть у нас в поле category_id\n",
    "\n",
    "tags = sorted(set(df.category_id.values))\n",
    "print(tags)\n",
    "\n",
    "#категории числовые так что преобразование в числа пропускаем"
   ]
  },
  {
   "cell_type": "code",
   "execution_count": 4,
   "metadata": {
    "ExecuteTime": {
     "end_time": "2018-01-26T15:48:30.565643Z",
     "start_time": "2018-01-26T15:48:30.505083Z"
    }
   },
   "outputs": [
    {
     "name": "stdout",
     "output_type": "stream",
     "text": [
      "Мини баня МБ-1(мини сауна), предназначена для принятия тепловых процедур в бытовых условиях(дома, на даче), а также в спортивных, оздоровительных, косметических, лечебных организациях и учреждениях. Она оказывает общеукрепляющее и профилактическое действие на организм человека. Номинальное напряжение переменного тока 220 В Максимальная мощность 2000 Вт Максимальная температура нагретого воздуха в термочехле (градусов С)\t90 – 100 Время достижения рабочей температуры 1,5 мин. Время достижения максимальной температуры 10 мин. Габаритные размеры тепловой камеры в рабочем состоянии, мм не более: - Длина 950 - Ширина 900 - Высота 1100 Масса 6,3 - 7,3 кг Мини баня станет отличным подарком как для мужчин, так и для женщин.\n"
     ]
    }
   ],
   "source": [
    "example = df.loc[2, 'description']\n",
    "print(example)"
   ]
  },
  {
   "cell_type": "code",
   "execution_count": 5,
   "metadata": {
    "ExecuteTime": {
     "end_time": "2018-01-26T15:48:36.805097Z",
     "start_time": "2018-01-26T15:48:30.568783Z"
    }
   },
   "outputs": [
    {
     "name": "stderr",
     "output_type": "stream",
     "text": [
      "Installing mystem to /home/jovyan/.local/bin/mystem from http://download.cdn.yandex.net/mystem/mystem-3.0-linux3.1-64bit.tar.gz\n"
     ]
    }
   ],
   "source": [
    "stemmer = SnowballStemmer('russian')\n",
    "lemmer = Mystem()"
   ]
  },
  {
   "cell_type": "code",
   "execution_count": 6,
   "metadata": {
    "ExecuteTime": {
     "end_time": "2018-01-26T15:48:37.746141Z",
     "start_time": "2018-01-26T15:48:36.808158Z"
    }
   },
   "outputs": [
    {
     "name": "stdout",
     "output_type": "stream",
     "text": [
      "мини баня мб 1 мини сауна предназначать для принятие тепловой процедура в бытовой условие дом на дача а также в спортивный оздоровительный косметический лечебный организация и учреждение она оказывать общеукрепляющий и профилактический действие на организм человек номинальный напряжение переменный ток 220 в максимальный мощность 2000 вт максимальный температура нагревать воздух в термочехол градус с 90 100 время достижение рабочий температура 1 5 мина время достижение максимальный температура 10 мина габаритный размер тепловой камера в рабочий состояние мм не более длина 950 ширина 900 высота 1100 масса 6 3 7 3 кг мини баня становиться отличный подарок как для мужчина так и для женщина\n"
     ]
    }
   ],
   "source": [
    "def preproc1(text):\n",
    "    text = re.sub(u\"[^a-zа-я0-9]\", \" \", text.lower())\n",
    "    text = re.sub(u\"\\s+\", \" \", text)\n",
    "    tokens = lemmer.lemmatize(text)\n",
    "    if len(tokens) == 0:\n",
    "        print('None')\n",
    "        return 'none'\n",
    "    return \" \".join([i.strip() for i in tokens if i.strip()])\n",
    "\n",
    "print(preproc1(example))"
   ]
  },
  {
   "cell_type": "code",
   "execution_count": 7,
   "metadata": {
    "ExecuteTime": {
     "end_time": "2018-01-26T15:48:37.794442Z",
     "start_time": "2018-01-26T15:48:37.750032Z"
    }
   },
   "outputs": [
    {
     "name": "stdout",
     "output_type": "stream",
     "text": [
      "мини_COM баня_S мб_S 1_UNKN мини_COM сауна_S предназначать_V для_PR принятие_S тепловой_A процедура_S в_PR бытовой_A условие_S дом_S на_PR дача_S а_CONJ также_ADV в_PR спортивный_A оздоровительный_A косметический_A лечебный_A организация_S и_CONJ учреждение_S она_SPRO оказывать_V общеукрепляющий_A и_CONJ профилактический_A действие_S на_PR организм_S человек_S номинальный_A напряжение_S переменный_A ток_S 220_UNKN в_PR максимальный_A мощность_S 2000_UNKN вт_S максимальный_A температура_S нагревать_V воздух_S в_PR термочехол_S градус_S с_PR 90_UNKN 100_UNKN время_S достижение_S рабочий_A температура_S 1_UNKN 5_UNKN мина_S время_S достижение_S максимальный_A температура_S 10_UNKN мина_S габаритный_A размер_S тепловой_A камера_S в_PR рабочий_A состояние_S мм_S не_PART более_ADV длина_S 950_UNKN ширина_S 900_UNKN высота_S 1100_UNKN масса_S 6_UNKN 3_UNKN 7_UNKN 3_UNKN кг_S мини_COM баня_S становиться_V отличный_A подарок_S как_CONJ для_PR мужчина_S так_ADVPRO и_CONJ для_PR женщина_S\n"
     ]
    }
   ],
   "source": [
    "def preproc2(text):\n",
    "    text = re.sub(u\"[^a-zа-я0-9]\", \" \", text.lower())\n",
    "    text = re.sub(u\"\\s+\", \" \", text)\n",
    "    tokens = lemmer.lemmatize(text)\n",
    "    tmp = []\n",
    "    for lem, res in zip(tokens, lemmer.analyze(text)):\n",
    "        lem = lem.strip()\n",
    "        if lem:\n",
    "            if \"analysis\" in res:\n",
    "                try:\n",
    "                    res = res[\"analysis\"][0][\"gr\"].split(\",\")[0].split(\"=\")[0]\n",
    "                except:\n",
    "                    res = \"UNKN\"\n",
    "            else:\n",
    "                res = \"UNKN\"\n",
    "            lem = \"{}_{}\".format(lem, res)\n",
    "            tmp.append(lem)\n",
    "    return \" \".join(tmp)\n",
    "\n",
    "print(preproc2(example))"
   ]
  },
  {
   "cell_type": "code",
   "execution_count": 8,
   "metadata": {
    "ExecuteTime": {
     "end_time": "2018-01-26T15:48:37.835683Z",
     "start_time": "2018-01-26T15:48:37.798329Z"
    }
   },
   "outputs": [
    {
     "name": "stdout",
     "output_type": "stream",
     "text": [
      "мин бан мб мин саун предназнач для принят теплов процедур бытов услов дом на дач такж спортивн оздоровительн косметическ лечебн организац учрежден он оказыва общеукрепля профилактическ действ на организм человек номинальн напряжен перемен ток 220 максимальн мощност 2000 вт максимальн температур нагрет воздух термочехл градус 90 100 врем достижен рабоч температур мин врем достижен максимальн температур 10 мин габаритн размер теплов камер рабоч состоян мм не бол длин 950 ширин 900 высот 1100 масс кг мин бан станет отличн подарк как для мужчин так для женщин\n"
     ]
    }
   ],
   "source": [
    "def preproc3(text):\n",
    "    tokens = []\n",
    "    text = re.sub(u\"[^a-zа-я0-9]\", \" \", text.lower())\n",
    "    text = re.sub(u\"\\s+\", \" \", text)\n",
    "    for token in re.split(' ', text.lower()):\n",
    "        if len(token) > 1:\n",
    "            norm_token = stemmer.stem(token)\n",
    "            if norm_token in skip_words:\n",
    "                continue\n",
    "            tokens.append(norm_token)\n",
    "    if len(tokens) == 0:\n",
    "        return 'None'\n",
    "    return ' '.join(tokens)\n",
    "\n",
    "print(preproc3(example))"
   ]
  },
  {
   "cell_type": "code",
   "execution_count": 9,
   "metadata": {
    "ExecuteTime": {
     "end_time": "2018-01-26T16:02:12.229003Z",
     "start_time": "2018-01-26T15:48:37.838177Z"
    }
   },
   "outputs": [],
   "source": [
    "df['preproc1_des'] = [preproc1(el) for el in df['description']]\n",
    "df['preproc1_tit'] = [preproc1(el) for el in df['title']]"
   ]
  },
  {
   "cell_type": "code",
   "execution_count": 10,
   "metadata": {
    "ExecuteTime": {
     "end_time": "2018-01-26T16:27:41.517827Z",
     "start_time": "2018-01-26T16:02:12.230888Z"
    }
   },
   "outputs": [],
   "source": [
    "df['preproc2_des'] = [preproc2(el) for el in df['description']]\n",
    "df['preproc2_tit'] = [preproc2(el) for el in df['title']]"
   ]
  },
  {
   "cell_type": "code",
   "execution_count": 11,
   "metadata": {
    "ExecuteTime": {
     "end_time": "2018-01-26T16:52:20.329408Z",
     "start_time": "2018-01-26T16:27:41.519716Z"
    }
   },
   "outputs": [],
   "source": [
    "df['preproc3_des'] = [preproc3(el) for el in df['description']]\n",
    "df['preproc3_tit'] = [preproc3(el) for el in df['title']]"
   ]
  },
  {
   "cell_type": "code",
   "execution_count": 12,
   "metadata": {
    "ExecuteTime": {
     "end_time": "2018-01-26T16:52:23.209357Z",
     "start_time": "2018-01-26T16:52:20.331291Z"
    }
   },
   "outputs": [
    {
     "data": {
      "text/plain": [
       "item_id              False\n",
       "title                False\n",
       "description          False\n",
       "price                False\n",
       "category_id          False\n",
       "preproc1_des         False\n",
       "preproc1_tit         False\n",
       "preproc2_des         False\n",
       "preproc2_tit         False\n",
       "preproc3_des         False\n",
       "preproc3_tit         False\n",
       "price_1_log_nrm      False\n",
       "price_10_log_nrm     False\n",
       "price_20_log_nrm     False\n",
       "price_30_log_nrm     False\n",
       "price_40_log_nrm     False\n",
       "price_45_log_nrm     False\n",
       "price_50_log_nrm     False\n",
       "price_55_log_nrm     False\n",
       "price_60_log_nrm     False\n",
       "price_70_log_nrm     False\n",
       "price_80_log_nrm     False\n",
       "price_90_log_nrm     False\n",
       "price_99_log_nrm     False\n",
       "price_100_log_nrm    False\n",
       "dtype: bool"
      ]
     },
     "execution_count": 12,
     "metadata": {},
     "output_type": "execute_result"
    }
   ],
   "source": [
    "# разбиваем цену на 14 диапазонов по %% и берем в рамках группы log по основанию line_max\n",
    "for min_prc, max_prc in zip([0, 1, 10, 20, 30, 40, 45, 50, 55, 60, 70, 80, 90, 99], [1, 10, 20, 30, 40, 45, 50, 55, 60, 70, 80, 90, 99, 100]):\n",
    "    line_min = np.percentile(df['price'], min_prc)\n",
    "    line_max = np.percentile(df['price'], max_prc)\n",
    "    df['price_' + str(max_prc) + '_log_nrm'] = [log(el,  line_max) if line_min < el <= line_max else 0 for el in df['price']]\n",
    "    \n",
    "df.isnull().any()"
   ]
  },
  {
   "cell_type": "code",
   "execution_count": 13,
   "metadata": {
    "ExecuteTime": {
     "end_time": "2018-01-26T16:52:48.606007Z",
     "start_time": "2018-01-26T16:52:23.212341Z"
    }
   },
   "outputs": [],
   "source": [
    "# сохраняем полученное (977Mb)\n",
    "df.to_csv('prep_dataset.csv', encoding='utf-8')"
   ]
  },
  {
   "cell_type": "code",
   "execution_count": 14,
   "metadata": {
    "ExecuteTime": {
     "end_time": "2018-01-26T17:24:29.307148Z",
     "start_time": "2018-01-26T16:52:48.608315Z"
    }
   },
   "outputs": [
    {
     "name": "stdout",
     "output_type": "stream",
     "text": [
      "243166\n",
      "   item_id                     title  \\\n",
      "0   489517    Стоик журнальный сталь   \n",
      "1   489518             iPhone 5 64Gb   \n",
      "2   489519                Утеплитель   \n",
      "3   489520       Пальто демисезонное   \n",
      "4   489521  Samsung syncmaster T200N   \n",
      "\n",
      "                                         description    price  \n",
      "0  продам журнальный столик изготавливаю столы из...  10000.0  \n",
      "1  Телефон в хорошем состоянии. Комплект, гаранти...  12500.0  \n",
      "2  ТЕПЛОПЕЛЕН-ЛИДЕР ТЕПЛА!!! Толщина утеплителя :...    250.0  \n",
      "3  Продам пальто женское (букле) в отличном состо...   1700.0  \n",
      "4  Условно рабочий, проблема в панели настройки м...   1000.0  \n",
      "(243166, 4)\n"
     ]
    }
   ],
   "source": [
    "# тоже самое для test файла\n",
    "tf = pd.read_csv('test.csv')\n",
    "print(len(tf))\n",
    "print(tf.head())\n",
    "print(tf.shape)\n",
    "\n",
    "tf['preproc1_des'] = [preproc1(el) for el in tf['description']]\n",
    "tf['preproc1_tit'] = [preproc1(el) for el in tf['title']]\n",
    "tf['preproc2_des'] = [preproc2(el) for el in tf['description']]\n",
    "tf['preproc2_tit'] = [preproc2(el) for el in tf['title']]\n",
    "tf['preproc3_des'] = [preproc2(el) for el in tf['description']]\n",
    "tf['preproc3_tit'] = [preproc2(el) for el in tf['title']]\n",
    "\n",
    "# разбиваем цену на 14 диапазонов по %% (на основе обучающей выборки) и берем в рамках группы log по основанию line_max\n",
    "for min_prc, max_prc in zip([0, 1, 10, 20, 30, 40, 45, 50, 55, 60, 70, 80, 90, 99], [1, 10, 20, 30, 40, 45, 50, 55, 60, 70, 80, 90, 99, 100]):\n",
    "    line_min = np.percentile(df['price'], min_prc)\n",
    "    line_max = np.percentile(df['price'], max_prc)\n",
    "    tf['price_' + str(max_prc) + '_log_nrm'] = [log(el,  line_max) if line_min < el <= line_max else 0 for el in tf['price']]\n",
    "    \n",
    "tf.isnull().any()\n",
    "\n",
    "# сохраняем полученное (540Mb)\n",
    "tf.to_csv('prep_test.csv', encoding='utf-8')"
   ]
  },
  {
   "cell_type": "code",
   "execution_count": 15,
   "metadata": {
    "ExecuteTime": {
     "end_time": "2018-01-26T17:24:29.428491Z",
     "start_time": "2018-01-26T17:24:29.309304Z"
    }
   },
   "outputs": [],
   "source": [
    "# Загружаем нужные библиотеки для обучения\n",
    "import sys\n",
    "import time\n",
    "\n",
    "import pandas as pd \n",
    "import numpy as np\n",
    "import os\n",
    "import utils\n",
    "from multiprocessing import Pool\n",
    "from sklearn.pipeline import Pipeline\n",
    "from sklearn.feature_extraction.text import CountVectorizer\n",
    "from sklearn.feature_extraction.text import TfidfVectorizer, TfidfTransformer\n",
    "from sklearn.model_selection import train_test_split\n",
    "\n",
    "import warnings\n",
    "warnings.filterwarnings('ignore')\n",
    "\n",
    "# модели\n",
    "from sklearn.naive_bayes import MultinomialNB\n",
    "from sklearn.model_selection import StratifiedKFold\n",
    "from sklearn.linear_model import SGDClassifier\n",
    "from sklearn.linear_model import LogisticRegression\n",
    "from sklearn.ensemble import GradientBoostingClassifier\n",
    "import xgboost as xgb\n",
    "from sklearn.metrics import accuracy_score\n",
    "from scipy.stats import gmean\n",
    "\n",
    "# для сохранения на диск обученных моделек и матриц преобразований\n",
    "from sklearn.externals import joblib\n",
    "import pickle\n",
    "\n",
    "# кусочек для поиск лучшего набора параметров для моделей (если есть мноого времени) \n",
    "from sklearn.grid_search import GridSearchCV\n",
    "from sklearn.feature_selection import SelectKBest, chi2\n",
    "\n",
    "# для работы с sparse матрицами\n",
    "import scipy.sparse as sp\n"
   ]
  },
  {
   "cell_type": "code",
   "execution_count": 16,
   "metadata": {
    "ExecuteTime": {
     "end_time": "2018-01-26T17:24:29.436439Z",
     "start_time": "2018-01-26T17:24:29.430756Z"
    }
   },
   "outputs": [],
   "source": [
    "# Загружаем (если надо) подготовленные данные с диска и убиваем строчки с пустыми данными.\n",
    "#df = pd.read_csv('prep_dataset.csv', encoding='utf-8')\n",
    "#print(df.shape)\n",
    "#df.dropna(inplace=True)\n",
    "#print(df.shape)\n",
    "#df.isnull().any()\n",
    "#tf = pd.read_csv('prep_test.csv', encoding='utf-8')\n",
    "#print(tf.shape)\n",
    "#tf.isnull().any()"
   ]
  },
  {
   "cell_type": "code",
   "execution_count": 17,
   "metadata": {
    "ExecuteTime": {
     "end_time": "2018-01-26T17:24:29.450223Z",
     "start_time": "2018-01-26T17:24:29.439524Z"
    }
   },
   "outputs": [],
   "source": [
    "# берем вектор результатов\n",
    "y = df['category_id'].as_matrix()"
   ]
  },
  {
   "cell_type": "code",
   "execution_count": 18,
   "metadata": {
    "ExecuteTime": {
     "end_time": "2018-01-26T22:27:46.620955Z",
     "start_time": "2018-01-26T17:24:29.453945Z"
    }
   },
   "outputs": [
    {
     "name": "stdout",
     "output_type": "stream",
     "text": [
      "preproc: preproc2_tit + preproc1_des, n_gram:2, clf:SGD, mean_acc:0.8990, std:0.0006, time: 18197.0511\n"
     ]
    }
   ],
   "source": [
    "# пропускаем GridSearchCV и прочие радости\n",
    "# берем преобразованный титульник и описание, для каждого отдельно строим матрицу преобразования CountVectorizer+Tfidf\n",
    "# для каждой берем свой kbest\n",
    "# далее объеденяем полученные таблицы и наши нормированные колонки с ценой\n",
    "# обучаем SGD с базовыми настройками\n",
    "start_time = time.time()\n",
    "train_output=[]\n",
    "preproc_tit = 'preproc2_tit'\n",
    "kbest_tit = 150000\n",
    "preproc_des = 'preproc1_des'\n",
    "kbest_des = 500000\n",
    "price_f = ['price_1_log_nrm', 'price_10_log_nrm', 'price_20_log_nrm', 'price_30_log_nrm', 'price_40_log_nrm', 'price_45_log_nrm', 'price_50_log_nrm', 'price_55_log_nrm', 'price_60_log_nrm', 'price_70_log_nrm', 'price_80_log_nrm', 'price_90_log_nrm', 'price_99_log_nrm', 'price_100_log_nrm']\n",
    "n_gram = 2\n",
    "name = 'SGD'\n",
    "\n",
    "x_tit = df[preproc_tit].as_matrix()\n",
    "x_des = df[preproc_des].as_matrix()\n",
    "x_prc = sp.csr_matrix(df[price_f])\n",
    "\n",
    "tf_tit_transformer = Pipeline([\n",
    "    ('vect', CountVectorizer(ngram_range=(1,n_gram))),\n",
    "    ('tfidf', TfidfTransformer(use_idf=True))])\n",
    "x_tf_tit = tf_tit_transformer.fit_transform(x_tit)\n",
    "\n",
    "tf_des_transformer = Pipeline([\n",
    "    ('vect', CountVectorizer(ngram_range=(1,n_gram))),\n",
    "    ('tfidf', TfidfTransformer(use_idf=True))])\n",
    "x_tf_des = tf_des_transformer.fit_transform(x_des)\n",
    "\n",
    "ch2_tit = SelectKBest(chi2, k=kbest_tit)\n",
    "x_tf_tit_select = ch2_tit.fit_transform(x_tf_tit, y)\n",
    "\n",
    "ch2_des = SelectKBest(chi2, k=kbest_des)\n",
    "x_tf_des_select = ch2_des.fit_transform(x_tf_des, y)\n",
    "\n",
    "x_tf0 = sp.hstack([x_tf_des_select, x_tf_tit_select], format='csr')\n",
    "x_tf = sp.hstack([x_tf0, x_prc], format='csr')\n",
    "        \n",
    "sgd = SGDClassifier(loss='modified_huber',alpha=1e-5,n_iter=700,random_state=666,n_jobs=-1)\n",
    "\n",
    "skf = StratifiedKFold(n_splits=5, random_state=42, shuffle=True)\n",
    "accs, fold = [], 0\n",
    "for trn_idx, val_idx in skf.split(x_tf, y):\n",
    "    x_trn, x_val = x_tf[trn_idx], x_tf[val_idx]\n",
    "    y_trn, y_val = y[trn_idx], y[val_idx]\n",
    "    \n",
    "    sgd.fit(x_trn, y_trn)\n",
    "\n",
    "    y_prd = sgd.predict_proba(x_val)\n",
    "    accs.append(accuracy_score(y_val, np.argmax(y_prd, axis=1)))\n",
    "stop_time=time.time()\n",
    "print(f'preproc: {preproc_tit} + {preproc_des}, n_gram:{n_gram}, clf:{name}, mean_acc:{np.mean(accs):0.4f}, std:{np.std(accs):0.4f}, time: {stop_time-start_time:0.4f}')\n",
    "train_output.append(f'preproc: {preproc_tit} + {preproc_des}, n_gram:{n_gram}, clf:{name}, mean_acc:{np.mean(accs):0.4f}, std:{np.std(accs):0.4f}, time: {stop_time-start_time:0.4f}')"
   ]
  },
  {
   "cell_type": "code",
   "execution_count": 19,
   "metadata": {
    "ExecuteTime": {
     "end_time": "2018-01-26T22:27:49.384868Z",
     "start_time": "2018-01-26T22:27:46.623972Z"
    }
   },
   "outputs": [
    {
     "name": "stdout",
     "output_type": "stream",
     "text": [
      "0.945518292999\n"
     ]
    }
   ],
   "source": [
    "result = sgd.score(x_tf, y)\n",
    "print(result)"
   ]
  },
  {
   "cell_type": "code",
   "execution_count": 21,
   "metadata": {
    "ExecuteTime": {
     "end_time": "2018-01-29T07:41:20.189187Z",
     "start_time": "2018-01-29T07:40:58.809675Z"
    }
   },
   "outputs": [
    {
     "data": {
      "text/plain": [
       "['preproc2_tit_preproc1_des_ngram_1_2_tfidf_sgd.sav']"
      ]
     },
     "execution_count": 21,
     "metadata": {},
     "output_type": "execute_result"
    }
   ],
   "source": [
    "### save transformer to file \n",
    "pickle.dump(tf_tit_transformer, open(\"tf_tit_transformer_preproc2.pickle\", \"wb\"))\n",
    "pickle.dump(tf_des_transformer, open(\"tf_des_transformer_preproc1.pickle\", \"wb\"))\n",
    "pickle.dump(ch2_tit, open(\"ch2_tit_150000.pickle\", \"wb\"))\n",
    "pickle.dump(ch2_des, open(\"ch2_des_500000.pickle\", \"wb\"))\n",
    "\n",
    "# save the model to disk\n",
    "model_filename = 'preproc2_tit_preproc1_des_ngram_1_2_tfidf_sgd.sav'\n",
    "joblib.dump(sgd, model_filename)\n",
    "\n",
    "# 53M 337M 11M 67M 268M соответственно"
   ]
  },
  {
   "cell_type": "code",
   "execution_count": 22,
   "metadata": {
    "ExecuteTime": {
     "end_time": "2018-01-29T07:43:00.916902Z",
     "start_time": "2018-01-29T07:41:20.195279Z"
    }
   },
   "outputs": [
    {
     "name": "stdout",
     "output_type": "stream",
     "text": [
      "0.945518292999\n",
      "0.945518292999\n"
     ]
    }
   ],
   "source": [
    "### load && test:\n",
    "\n",
    "loaded_tf_tit_transformer = pickle.load(open(\"tf_tit_transformer_preproc2.pickle\", \"rb\"))\n",
    "loaded_tf_des_transformer = pickle.load(open(\"tf_des_transformer_preproc1.pickle\", \"rb\"))\n",
    "loaded_ch2_tit = pickle.load(open(\"ch2_tit_150000.pickle\", \"rb\"))\n",
    "loaded_ch2_des = pickle.load(open(\"ch2_des_500000.pickle\", \"rb\"))\n",
    "\n",
    "# load the model from disk\n",
    "loaded_model = joblib.load(model_filename)\n",
    "result = loaded_model.score(x_tf, y)\n",
    "print(result)\n",
    "\n",
    "# full test\n",
    "\n",
    "loaded_x_tf_tit = loaded_tf_tit_transformer.transform(x_tit)\n",
    "loaded_x_tf_des = loaded_tf_des_transformer.transform(x_des)\n",
    "\n",
    "loaded_x_tf_tit_select = loaded_ch2_tit.transform(loaded_x_tf_tit)\n",
    "loaded_x_tf_des_select = loaded_ch2_des.transform(loaded_x_tf_des)\n",
    "\n",
    "loaded_x_tf0 = sp.hstack([loaded_x_tf_des_select, loaded_x_tf_tit_select], format='csr')\n",
    "loaded_x_tf = sp.hstack([loaded_x_tf0, x_prc], format='csr')\n",
    "\n",
    "result = loaded_model.score(loaded_x_tf, y)\n",
    "print(result)"
   ]
  },
  {
   "cell_type": "code",
   "execution_count": 23,
   "metadata": {
    "ExecuteTime": {
     "end_time": "2018-01-29T07:43:44.577079Z",
     "start_time": "2018-01-29T07:43:00.920135Z"
    }
   },
   "outputs": [
    {
     "name": "stdout",
     "output_type": "stream",
     "text": [
      "[22  0 15 ...,  7 18 29]\n",
      "   item_id  category_id\n",
      "0   489517           22\n",
      "1   489518            0\n",
      "2   489519           15\n",
      "3   489520           33\n",
      "4   489521           13\n"
     ]
    }
   ],
   "source": [
    "# 0.89659\n",
    "tx_tit = tf[preproc_tit].as_matrix()\n",
    "tx_des = tf[preproc_des].as_matrix()\n",
    "tx_prc = sp.csr_matrix(tf[price_f])\n",
    "\n",
    "tx_tf_tit = tf_tit_transformer.transform(tx_tit)\n",
    "tx_tf_des = tf_des_transformer.transform(tx_des)\n",
    "\n",
    "tx_tf_tit_select = ch2_tit.transform(tx_tf_tit)\n",
    "tx_tf_des_select = ch2_des.transform(tx_tf_des)\n",
    "\n",
    "\n",
    "tx_tf0 = sp.hstack([tx_tf_des_select, tx_tf_tit_select], format='csr')\n",
    "tx_tf = sp.hstack([tx_tf0, tx_prc], format='csr')\n",
    "\n",
    "ty_prd = sgd.predict_proba(tx_tf)\n",
    "\n",
    "print(np.argmax(ty_prd, axis=1))\n",
    "\n",
    "ty_ans = np.argmax(ty_prd, axis=1)\n",
    "data = pd.DataFrame()\n",
    "data['item_id'] = tf['item_id']\n",
    "data['category_id'] = ty_ans.tolist()\n",
    "print(data.head())\n",
    "data.to_csv('test_ans.csv', index=False, encoding='utf-8')"
   ]
  }
 ],
 "metadata": {
  "kernelspec": {
   "display_name": "Python 3",
   "language": "python",
   "name": "python3"
  },
  "language_info": {
   "codemirror_mode": {
    "name": "ipython",
    "version": 3
   },
   "file_extension": ".py",
   "mimetype": "text/x-python",
   "name": "python",
   "nbconvert_exporter": "python",
   "pygments_lexer": "ipython3",
   "version": "3.6.3"
  },
  "toc": {
   "nav_menu": {},
   "number_sections": true,
   "sideBar": true,
   "skip_h1_title": false,
   "toc_cell": false,
   "toc_position": {},
   "toc_section_display": "block",
   "toc_window_display": false
  }
 },
 "nbformat": 4,
 "nbformat_minor": 2
}
